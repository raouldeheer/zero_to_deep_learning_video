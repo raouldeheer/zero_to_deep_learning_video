{
 "cells": [
  {
   "cell_type": "markdown",
   "metadata": {},
   "source": [
    "# Deep Learning Model"
   ]
  },
  {
   "cell_type": "markdown",
   "metadata": {},
   "source": [
    "![](../../data/deepmodel.png)\n",
    "De blauwe vakken weergeven per connectie een synaptic weight. Deze moet worden berekend tijden het trainen. Ook hebben de groene vakken per neuron een bais. Deze moet ook worden berekend bij het trainen. Dit netwerk heeft 3 lagen."
   ]
  },
  {
   "cell_type": "markdown",
   "metadata": {},
   "source": [
    "Voor het trainen van dit netwerk wordt de Adam optimimizer gebruikt. De optimizer past de weights op een efficienten manieren aan en checkt het tegen de trainings data. Dit kan op verschillende manieren worden gedaan. Daarvoor zijn er dus optimizers."
   ]
  },
  {
   "cell_type": "markdown",
   "metadata": {},
   "source": [
    "De accuracy is best goed voor dit netwerk invergelijking tot de vorige. De accuracy is 0.9933. Er is helaas wel sprake van overfitting. Dit zie je door dat hij soms 1.0000 is maar dan weer er onder gaat. "
   ]
  }
 ],
 "metadata": {
  "language_info": {
   "name": "python"
  },
  "orig_nbformat": 4
 },
 "nbformat": 4,
 "nbformat_minor": 2
}
